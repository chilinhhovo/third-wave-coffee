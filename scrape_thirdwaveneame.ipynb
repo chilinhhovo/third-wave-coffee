{
 "cells": [
  {
   "cell_type": "code",
   "execution_count": 2,
   "metadata": {},
   "outputs": [
    {
     "name": "stdout",
     "output_type": "stream",
     "text": [
      "Empty DataFrame\n",
      "Columns: []\n",
      "Index: []\n"
     ]
    }
   ],
   "source": [
    "import asyncio\n",
    "from playwright.async_api import async_playwright\n",
    "import pandas as pd\n",
    "\n",
    "async def scrape_thirdwaveneame_playwright():\n",
    "    async with async_playwright() as p:\n",
    "        browser = await p.chromium.launch(headless=False)  # See what's happening\n",
    "        page = await browser.new_page()\n",
    "        \n",
    "        await page.goto(\"https://thirdwavenearme.com/\")\n",
    "        await page.wait_for_timeout(8000)  # wait for page + cafes to load fully\n",
    "        \n",
    "        # Now extract the cafes that are rendered into the page\n",
    "        cafes = await page.evaluate(\"\"\"\n",
    "            () => {\n",
    "                const elements = Array.from(document.querySelectorAll('div.MuiCardContent-root'));\n",
    "                const cafes = elements.map(el => {\n",
    "                    const name = el.querySelector('h2') ? el.querySelector('h2').innerText.trim() : null;\n",
    "                    const city = el.querySelector('p') ? el.querySelector('p').innerText.trim() : null;\n",
    "                    return { name, city };\n",
    "                });\n",
    "                return cafes.filter(cafe => cafe.name && cafe.city);\n",
    "            }\n",
    "        \"\"\")\n",
    "        \n",
    "        await browser.close()\n",
    "        \n",
    "        return pd.DataFrame(cafes)\n",
    "\n",
    "# HOW TO RUN\n",
    "df_thirdwave = await scrape_thirdwaveneame_playwright()\n",
    "\n",
    "# View sample\n",
    "print(df_thirdwave.head())\n",
    "\n",
    "# Save it\n",
    "df_thirdwave.to_csv(\"raw_thirdwavenearme.csv\", index=False)\n"
   ]
  },
  {
   "cell_type": "code",
   "execution_count": null,
   "metadata": {},
   "outputs": [],
   "source": []
  }
 ],
 "metadata": {
  "kernelspec": {
   "display_name": "Python 3",
   "language": "python",
   "name": "python3"
  },
  "language_info": {
   "codemirror_mode": {
    "name": "ipython",
    "version": 3
   },
   "file_extension": ".py",
   "mimetype": "text/x-python",
   "name": "python",
   "nbconvert_exporter": "python",
   "pygments_lexer": "ipython3",
   "version": "3.10.12"
  }
 },
 "nbformat": 4,
 "nbformat_minor": 2
}
